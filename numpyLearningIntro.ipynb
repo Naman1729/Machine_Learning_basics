{
 "cells": [
  {
   "cell_type": "markdown",
   "id": "7587194d-82a8-4f2e-8c70-885c29993a85",
   "metadata": {},
   "source": [
    "# Numpy vs list"
   ]
  },
  {
   "cell_type": "code",
   "execution_count": 52,
   "id": "91b8bf1f-df60-4ace-b4a6-5ac6a2621544",
   "metadata": {},
   "outputs": [
    {
     "data": {
      "text/plain": [
       "array([1, 2, 3])"
      ]
     },
     "execution_count": 52,
     "metadata": {},
     "output_type": "execute_result"
    }
   ],
   "source": [
    "import numpy as np\n",
    "import sys\n",
    "import time\n",
    "a = np.array([1,2,3])\n",
    "a"
   ]
  },
  {
   "cell_type": "markdown",
   "id": "269b63c3-70f5-4e54-9454-b6b733e3e896",
   "metadata": {},
   "source": [
    "# This shows the space used by list :-"
   ]
  },
  {
   "cell_type": "code",
   "execution_count": 53,
   "id": "b4307b3a-bc5c-4812-b559-be5a33a780fa",
   "metadata": {},
   "outputs": [
    {
     "name": "stdout",
     "output_type": "stream",
     "text": [
      "28000\n"
     ]
    }
   ],
   "source": [
    "l = range(1000)\n",
    "print(sys.getsizeof(5) * len(l))"
   ]
  },
  {
   "cell_type": "markdown",
   "id": "74cecffd-ee8d-423e-95f6-d920e229d080",
   "metadata": {},
   "source": [
    "# This shows the space used by numpy :-"
   ]
  },
  {
   "cell_type": "code",
   "execution_count": 54,
   "id": "a6c15482-23aa-4e47-8cf0-b3321ebf5f0f",
   "metadata": {},
   "outputs": [
    {
     "name": "stdout",
     "output_type": "stream",
     "text": [
      "4000\n"
     ]
    }
   ],
   "source": [
    "array = np.arange(1000)\n",
    "print(array.size * array.itemsize)"
   ]
  },
  {
   "cell_type": "code",
   "execution_count": 55,
   "id": "0138304a-c884-4c90-9259-ef9fbd3496d9",
   "metadata": {},
   "outputs": [],
   "source": [
    "SIZE = 1000000\n",
    "\n",
    "l1 = range(SIZE)\n",
    "l2 = range(SIZE)\n",
    "\n",
    "a1 = np.arange(SIZE)\n",
    "a2 = np.arange(SIZE)"
   ]
  },
  {
   "cell_type": "markdown",
   "id": "e342a191-af62-45e7-8beb-54efea749b28",
   "metadata": {},
   "source": [
    "# This shows time used by list :-"
   ]
  },
  {
   "cell_type": "code",
   "execution_count": 65,
   "id": "30c35668-3de9-4660-bcd8-d22b3e0fd97e",
   "metadata": {},
   "outputs": [
    {
     "name": "stdout",
     "output_type": "stream",
     "text": [
      "python list took:  99.64585304260254 ms\n"
     ]
    }
   ],
   "source": [
    "start = time.time()\n",
    "result = [(x + y) for x, y in zip(l1, l2)]\n",
    "print(\"python list took: \", (time.time() - start) * 1000, \"ms\")"
   ]
  },
  {
   "cell_type": "markdown",
   "id": "e35063c6-e49c-4b8e-8b13-5cc9e7746f18",
   "metadata": {},
   "source": [
    "# This shows time used in numpy for array :-"
   ]
  },
  {
   "cell_type": "code",
   "execution_count": 66,
   "id": "e32f711e-8c71-4c11-8878-051185cf96b8",
   "metadata": {},
   "outputs": [
    {
     "name": "stdout",
     "output_type": "stream",
     "text": [
      "python numpy took:  7.9193115234375 ms\n"
     ]
    }
   ],
   "source": [
    "start = time.time()\n",
    "result = a1 + a2\n",
    "print(\"python numpy took: \", (time.time() - start) * 1000, \"ms\")"
   ]
  },
  {
   "cell_type": "markdown",
   "id": "5330bf32-1cdb-480d-a724-08c55e014143",
   "metadata": {},
   "source": [
    "# Some basic calculation in numpy :-"
   ]
  },
  {
   "cell_type": "code",
   "execution_count": 58,
   "id": "4f58f875-6c2b-439b-a6ad-10f72cb0c5df",
   "metadata": {},
   "outputs": [
    {
     "data": {
      "text/plain": [
       "array([5, 7, 9])"
      ]
     },
     "execution_count": 58,
     "metadata": {},
     "output_type": "execute_result"
    }
   ],
   "source": [
    "a1 = np.array([1, 2, 3])\n",
    "a2 = np.array([4, 5, 6])\n",
    "result = a1 + a2\n",
    "result"
   ]
  },
  {
   "cell_type": "code",
   "execution_count": 59,
   "id": "e428567a-e681-4624-b6cf-f881ba28d8f6",
   "metadata": {},
   "outputs": [
    {
     "data": {
      "text/plain": [
       "array([3, 3, 3])"
      ]
     },
     "execution_count": 59,
     "metadata": {},
     "output_type": "execute_result"
    }
   ],
   "source": [
    "result = a2 - a1\n",
    "result"
   ]
  },
  {
   "cell_type": "code",
   "execution_count": 60,
   "id": "1ecd67f4-f3fa-4c69-861d-f18ae10529d2",
   "metadata": {},
   "outputs": [
    {
     "data": {
      "text/plain": [
       "array([ 4, 10, 18])"
      ]
     },
     "execution_count": 60,
     "metadata": {},
     "output_type": "execute_result"
    }
   ],
   "source": [
    "result = a1 * a2\n",
    "result"
   ]
  },
  {
   "cell_type": "code",
   "execution_count": 67,
   "id": "a7e293ab-4fb2-4b59-82b7-0b65f20023c5",
   "metadata": {},
   "outputs": [
    {
     "data": {
      "text/plain": [
       "array([0.25, 0.4 , 0.5 ])"
      ]
     },
     "execution_count": 67,
     "metadata": {},
     "output_type": "execute_result"
    }
   ],
   "source": [
    "result = a1 / a2\n",
    "result"
   ]
  },
  {
   "cell_type": "code",
   "execution_count": null,
   "id": "f843ec78-0f8e-46a2-b86b-f831e7edd922",
   "metadata": {},
   "outputs": [],
   "source": []
  }
 ],
 "metadata": {
  "kernelspec": {
   "display_name": "Python 3 (ipykernel)",
   "language": "python",
   "name": "python3"
  },
  "language_info": {
   "codemirror_mode": {
    "name": "ipython",
    "version": 3
   },
   "file_extension": ".py",
   "mimetype": "text/x-python",
   "name": "python",
   "nbconvert_exporter": "python",
   "pygments_lexer": "ipython3",
   "version": "3.11.1"
  }
 },
 "nbformat": 4,
 "nbformat_minor": 5
}
